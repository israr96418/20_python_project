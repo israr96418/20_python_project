{
  "nbformat": 4,
  "nbformat_minor": 0,
  "metadata": {
    "colab": {
      "provenance": [],
      "authorship_tag": "ABX9TyMC8neQwMOd6l3h8RuQ6j1Y",
      "include_colab_link": true
    },
    "kernelspec": {
      "name": "python3",
      "display_name": "Python 3"
    },
    "language_info": {
      "name": "python"
    }
  },
  "cells": [
    {
      "cell_type": "markdown",
      "metadata": {
        "id": "view-in-github",
        "colab_type": "text"
      },
      "source": [
        "<a href=\"https://colab.research.google.com/github/israr96418/20_python_project/blob/main/Israr_dawar_StallionAI.ipynb\" target=\"_parent\"><img src=\"https://colab.research.google.com/assets/colab-badge.svg\" alt=\"Open In Colab\"/></a>"
      ]
    },
    {
      "cell_type": "markdown",
      "source": [
        "**Week 01\n",
        "Day 01 **\n",
        "\n"
      ],
      "metadata": {
        "id": "t2W_JcJdvajJ"
      }
    },
    {
      "cell_type": "markdown",
      "source": [
        "Task 01"
      ],
      "metadata": {
        "id": "3Oy9rX8B5sft"
      }
    },
    {
      "cell_type": "code",
      "source": [
        "\n",
        "# First method: using additon and subtraction operation\n",
        "x = 4\n",
        "y = 5\n",
        "\n",
        "print(\"Before swaping x = \",x, \"and y = \", y)\n",
        "\n",
        "x  = x + y    # x = 9\n",
        "y = x - y     # y = 4\n",
        "x = x - y     # x = 5\n",
        "\n",
        "print(\"After swaping x = \",x, \"and y = \", y)\n",
        "\n",
        "\n",
        "\n",
        "print(\"#########################\")\n",
        "#2nd method: using additon and subtraction operation\n",
        "\n",
        "first_name = \"Israr\"\n",
        "last_name = \"dawar\"\n",
        "print(\"Before swaping first_name = \",first_name, \"and  = \", last_name)\n",
        "\n",
        "first_name , last_name = last_name, first_name\n",
        "\n",
        "print(\"After swaping first_name = \",first_name, \"and y = \", last_name)\n",
        "\n",
        "\n",
        "\n"
      ],
      "metadata": {
        "colab": {
          "base_uri": "https://localhost:8080/"
        },
        "id": "EOJAJLtlvcVV",
        "outputId": "20aabbc9-35b8-4fa3-aa34-add53b854a96"
      },
      "execution_count": 9,
      "outputs": [
        {
          "output_type": "stream",
          "name": "stdout",
          "text": [
            "Before swaping x =  4 and y =  5\n",
            "After swaping x =  5 and y =  4\n",
            "#########################\n",
            "Before swaping first_name =  Israr and last_name =  dawar\n",
            "After swaping first_name =  dawar and last_name =  Israr\n"
          ]
        }
      ]
    },
    {
      "cell_type": "markdown",
      "source": [
        "Task 2"
      ],
      "metadata": {
        "id": "yucR27nG5ulQ"
      }
    },
    {
      "cell_type": "code",
      "source": [
        "def check_prime_numer(num):\n",
        "  if num > 1:\n",
        "    for i in range(2, int(num/2)+1):\n",
        "      if num % i ==0:\n",
        "        print(\"Not a prime number\")\n",
        "        break\n",
        "    else:\n",
        "        print(\"Prime number\")\n",
        "  else:\n",
        "    print(\"Number is not a prime\")\n",
        "\n",
        "\n",
        "\n",
        "check_prime_numer(11)\n",
        "\n"
      ],
      "metadata": {
        "colab": {
          "base_uri": "https://localhost:8080/"
        },
        "id": "BK09P8sRvqvm",
        "outputId": "3630ea3d-90e3-413d-8324-dee5f7b689e0"
      },
      "execution_count": 33,
      "outputs": [
        {
          "output_type": "stream",
          "name": "stdout",
          "text": [
            "Prime number\n"
          ]
        }
      ]
    },
    {
      "cell_type": "markdown",
      "source": [
        "Task 3"
      ],
      "metadata": {
        "id": "rlRwIBNY6G-e"
      }
    },
    {
      "cell_type": "code",
      "source": [
        "def factorial(num):\n",
        "  if num == 1:\n",
        "    return 1\n",
        "  return num * factorial(num -1)\n",
        "\n",
        "print(factorial(6))"
      ],
      "metadata": {
        "colab": {
          "base_uri": "https://localhost:8080/"
        },
        "id": "agXSbSo32a2d",
        "outputId": "4e5ee72e-2b1d-4053-ef80-3bb470375321"
      },
      "execution_count": 36,
      "outputs": [
        {
          "output_type": "stream",
          "name": "stdout",
          "text": [
            "720\n"
          ]
        }
      ]
    },
    {
      "cell_type": "markdown",
      "source": [
        "Task 4\n"
      ],
      "metadata": {
        "id": "VfRRsXZW83c4"
      }
    },
    {
      "cell_type": "code",
      "source": [
        "def isPalindrome(name):\n",
        "  if name == name[::-1]:\n",
        "    return True\n",
        "  else:\n",
        "    False\n",
        "print(isPalindrome(\"mam\"))"
      ],
      "metadata": {
        "colab": {
          "base_uri": "https://localhost:8080/"
        },
        "id": "aZLl2U6w6vEm",
        "outputId": "158cdb78-1e68-46e9-8234-c28d57967e56"
      },
      "execution_count": 41,
      "outputs": [
        {
          "output_type": "stream",
          "name": "stdout",
          "text": [
            "True\n"
          ]
        }
      ]
    },
    {
      "cell_type": "markdown",
      "source": [
        "Task 5"
      ],
      "metadata": {
        "id": "UKzQ40aG9giw"
      }
    },
    {
      "cell_type": "code",
      "source": [
        "List = [11,22,3,4,6,5,4,33,77,6,5,12,34,56,78,89]\n",
        "\n",
        "for num in List:\n",
        "  if num % 2 == 0:\n",
        "    print(num, end=\" \")"
      ],
      "metadata": {
        "colab": {
          "base_uri": "https://localhost:8080/"
        },
        "id": "Dc8_dwz-9sgz",
        "outputId": "5a77ee48-1e0c-468c-8872-438b1bbba9c4"
      },
      "execution_count": 44,
      "outputs": [
        {
          "output_type": "stream",
          "name": "stdout",
          "text": [
            "22 4 6 4 6 12 34 56 78 "
          ]
        }
      ]
    },
    {
      "cell_type": "markdown",
      "source": [
        "Task 6"
      ],
      "metadata": {
        "id": "ZlvLa6Tt9gni"
      }
    },
    {
      "cell_type": "code",
      "source": [
        "def even_fibonacci_sum(limit):\n",
        "    a, b = 1, 1\n",
        "    even_sum = 0\n",
        "\n",
        "    while a <= limit:\n",
        "        if a % 2 == 0:\n",
        "            even_sum += a\n",
        "        a, b = b, a + b\n",
        "\n",
        "    return even_sum\n",
        "\n",
        "limit = 400\n",
        "result = even_fibonacci_sum(limit)\n",
        "print(f\"The sum of even Fibonacci numbers up to {limit} is {result}\")\n",
        "\n"
      ],
      "metadata": {
        "colab": {
          "base_uri": "https://localhost:8080/"
        },
        "id": "pGAbaRaB9tUT",
        "outputId": "f825c8e5-46b3-41c4-9b45-412df09e3976"
      },
      "execution_count": 53,
      "outputs": [
        {
          "output_type": "stream",
          "name": "stdout",
          "text": [
            "The sum of even Fibonacci numbers up to 400 is 188\n"
          ]
        }
      ]
    },
    {
      "cell_type": "markdown",
      "source": [
        "Task 7"
      ],
      "metadata": {
        "id": "b2ZjiwCt9gx7"
      }
    },
    {
      "cell_type": "code",
      "source": [
        "def calculate_area(shape_name):\n",
        "  shape_name = shape_name.lower()\n",
        "\n",
        "  if shape_name == 'circle':\n",
        "    # forumla to calculate circle area = pi * r * r\n",
        "    r = int(input(\"Enter circle radius lenght\"))\n",
        "    pi = 3.14\n",
        "\n",
        "    circle_area = pi * r * r\n",
        "    print(f\"Area fo circle is: {circle_area}\")\n",
        "\n",
        "  elif shape_name == 'triangle':\n",
        "    height = int(input(\"Enter triangle height\"))\n",
        "    breadth = int(input(\"Enter triangle breadth\"))\n",
        "\n",
        "    # formula = 0.5 * height * breadth\n",
        "    tri_area = 0.5 * height * breadth\n",
        "    print(f\"Area fo triang;e is: {tri_area}\")\n",
        "\n",
        "  elif shape_name == 'rectangle':\n",
        "    lenght = int(input(\"Enter rectangle lenght\"))\n",
        "    breadth = int(input(\"Enter rectangle breadth\"))\n",
        "\n",
        "    # formula = lenght * breadth\n",
        "    rect_area = lenght * breadth\n",
        "    print(f\"Area fo rectangle is: {rect_area}\")\n",
        "  else:\n",
        "    print(\"sorry the shape is not available\")\n",
        "\n",
        "\n",
        "\n",
        "shape_name = input(\"Enter the name of shaphe whose area that you want to calculate: \")\n",
        "calculate_area(shape_name)"
      ],
      "metadata": {
        "colab": {
          "base_uri": "https://localhost:8080/"
        },
        "id": "Qem22Qaz9vzE",
        "outputId": "f25331a7-089e-4d9e-f63c-38c392f21fbc"
      },
      "execution_count": 62,
      "outputs": [
        {
          "output_type": "stream",
          "name": "stdout",
          "text": [
            "Enter the name of shaphe whose area that you want to calculate: rectangle\n",
            "Enter rectangle lenght4\n",
            "Enter rectangle breadth4\n",
            "Area fo rectangle is: 16\n"
          ]
        }
      ]
    },
    {
      "cell_type": "markdown",
      "source": [
        "Task 8"
      ],
      "metadata": {
        "id": "XAyluzn49g1J"
      }
    },
    {
      "cell_type": "code",
      "source": [
        "def reverse_list_in_place(my_list):\n",
        "  initial = 0\n",
        "  end = len(my_list)-1\n",
        "\n",
        "  while initial < end:\n",
        "    my_list[initial], my_list[end] = my_list[end] ,my_list[initial]\n",
        "    initial +=1\n",
        "    end -=1\n",
        "\n",
        "\n",
        "my_list = [5,4,3,2,1]\n",
        "reverse_list_in_place(my_list)\n",
        "print(\"Reversed list:\", my_list)\n"
      ],
      "metadata": {
        "colab": {
          "base_uri": "https://localhost:8080/"
        },
        "id": "htsqkNtn9vMP",
        "outputId": "58bb8066-29d5-4d1b-cf5b-ad714d97612a"
      },
      "execution_count": 66,
      "outputs": [
        {
          "output_type": "stream",
          "name": "stdout",
          "text": [
            "Reversed list: [1, 2, 3, 4, 5]\n"
          ]
        }
      ]
    },
    {
      "cell_type": "markdown",
      "source": [
        "Task 9\n"
      ],
      "metadata": {
        "id": "odGGxliqOpr0"
      }
    },
    {
      "cell_type": "code",
      "source": [
        "# Open the file in read mode\n",
        "text = open(\"simple.txt\", \"r\")\n",
        "\n",
        "# Create an empty dictionary\n",
        "d = dict()\n",
        "\n",
        "for line in text:\n",
        "\tline = line.strip()\n",
        "\n",
        "\t# Convert the characters in line to\n",
        "\t# lowercase to avoid case mismatch\n",
        "\tline = line.lower()\n",
        "\n",
        "\t# Split the line into words\n",
        "\twords = line.split(\" \")\n",
        "\n",
        "\n",
        "\t# Iterate over each word in line\n",
        "\tfor word in words:\n",
        "\t\t# Check if the word is already in dictionary\n",
        "\t\tif word in d:\n",
        "\t\t\t# Increment count of word by 1\n",
        "\t\t\td[word] = d[word] + 1\n",
        "\t\telse:\n",
        "\t\t\t# Add the word to dictionary with count 1\n",
        "\t\t\td[word] = 1\n",
        "\n",
        "# Print the contents of dictionary\n",
        "for key in list(d.keys()):\n",
        "\tprint(key, \":\", d[key])\n"
      ],
      "metadata": {
        "colab": {
          "base_uri": "https://localhost:8080/"
        },
        "id": "jM0Tjpil9qxr",
        "outputId": "6caefe05-fb58-4034-d4e7-9236f5e78ba1"
      },
      "execution_count": 79,
      "outputs": [
        {
          "output_type": "stream",
          "name": "stdout",
          "text": [
            "mango : 3\n",
            "banana : 3\n",
            "apple : 3\n",
            "pear : 2\n",
            "grapes : 1\n",
            "strawberry : 2\n",
            "kiwi : 1\n"
          ]
        }
      ]
    },
    {
      "cell_type": "markdown",
      "source": [
        "Task 10"
      ],
      "metadata": {
        "id": "Ysoki21GOtow"
      }
    },
    {
      "cell_type": "code",
      "source": [
        "def generate_fibonacci_sequence(n):\n",
        "    fibonacci_sequence = []\n",
        "\n",
        "    a, b = 0, 1\n",
        "    for _ in range(n):      # underscore \"_\" used in python as placeholder variable when you don,t intend to use the value of variable\n",
        "        fibonacci_sequence.append(a)\n",
        "        a, b = b, a + b\n",
        "\n",
        "    return fibonacci_sequence\n",
        "\n",
        "num_terms = 4\n",
        "fib_sequence = generate_fibonacci_sequence(num_terms)\n",
        "print(f\"The first {num_terms} terms of the Fibonacci sequence are: {fib_sequence}\")\n"
      ],
      "metadata": {
        "colab": {
          "base_uri": "https://localhost:8080/"
        },
        "id": "jBXqMVsJMD9D",
        "outputId": "a73e426d-11c0-4399-bd50-b579056ad791"
      },
      "execution_count": 85,
      "outputs": [
        {
          "output_type": "stream",
          "name": "stdout",
          "text": [
            "The first 4 terms of the Fibonacci sequence are: [0, 1, 1, 2]\n"
          ]
        }
      ]
    },
    {
      "cell_type": "markdown",
      "source": [
        "Task 11"
      ],
      "metadata": {
        "id": "nRbFC_6lVOKN"
      }
    },
    {
      "cell_type": "code",
      "source": [
        "\n",
        "sum_of_multiples_of_7 = 0\n",
        "start = 1\n",
        "end = 100\n",
        "n = 7\n",
        "\n",
        "for num in range(start, end + 1):\n",
        "    if num % n == 0:\n",
        "        sum_of_multiples_of_7 += num\n",
        "\n",
        "# Print the result\n",
        "print(\"The sum of all multiples of 7 from 1 to 100 is:\", sum_of_multiples_of_7)\n"
      ],
      "metadata": {
        "colab": {
          "base_uri": "https://localhost:8080/"
        },
        "id": "PHijXOcGVajx",
        "outputId": "015fd97c-c18c-494d-b62b-479cc5460a8b"
      },
      "execution_count": 97,
      "outputs": [
        {
          "output_type": "stream",
          "name": "stdout",
          "text": [
            "The sum of all multiples of 7 from 1 to 100 is: 30\n"
          ]
        }
      ]
    },
    {
      "cell_type": "markdown",
      "source": [
        "Task 12\n"
      ],
      "metadata": {
        "id": "jwC1OOoxVONu"
      }
    },
    {
      "cell_type": "code",
      "source": [
        "\n",
        "# use reqular expression to check email validation\n",
        "\n",
        "import re\n",
        "def pythonRegEx_for_email(email):\n",
        "    if not re.findall(r'^([a-zA-Z0-9_\\-\\.]+)@([a-zA-Z0-9_\\-\\.]+)\\.([a-zA-Z]{2,5})$', email):\n",
        "        return False\n",
        "    else:\n",
        "        return True\n",
        "\n",
        "\n",
        "email = input(\"Enter email\")\n",
        "print(pythonRegEx_for_email(email))\n"
      ],
      "metadata": {
        "colab": {
          "base_uri": "https://localhost:8080/"
        },
        "id": "5VCFhDPWVbPr",
        "outputId": "faaad2e8-7ab4-4fce-aaf3-63d55b534dab"
      },
      "execution_count": 100,
      "outputs": [
        {
          "output_type": "stream",
          "name": "stdout",
          "text": [
            "Enter emailisrar@gmail.com\n",
            "True\n"
          ]
        }
      ]
    },
    {
      "cell_type": "markdown",
      "source": [
        "Task 13"
      ],
      "metadata": {
        "id": "U-JPdA6iVORF"
      }
    },
    {
      "cell_type": "code",
      "source": [
        "def is_prime(n):\n",
        "    if n <= 1:\n",
        "        return False\n",
        "    if n <= 3:\n",
        "        return True\n",
        "    if n % 2 == 0 or n % 3 == 0:\n",
        "        return False\n",
        "    i = 5\n",
        "    while i * i <= n:\n",
        "        if n % i == 0 or n % (i + 2) == 0:\n",
        "            return False\n",
        "        i += 6\n",
        "    return True\n",
        "\n",
        "# Generate a list of prime numbers up to 100\n",
        "prime_list = [num for num in range(2, 101) if is_prime(num)]\n",
        "\n",
        "# Print the list of prime numbers\n",
        "print(\"Prime numbers up to 100:\")\n",
        "print(prime_list)\n"
      ],
      "metadata": {
        "colab": {
          "base_uri": "https://localhost:8080/"
        },
        "id": "5pIsnrOAVb1P",
        "outputId": "52182826-0c88-428d-971e-47ee99d0ee2a"
      },
      "execution_count": 101,
      "outputs": [
        {
          "output_type": "stream",
          "name": "stdout",
          "text": [
            "Prime numbers up to 100:\n",
            "[2, 3, 5, 7, 11, 13, 17, 19, 23, 29, 31, 37, 41, 43, 47, 53, 59, 61, 67, 71, 73, 79, 83, 89, 97]\n"
          ]
        }
      ]
    },
    {
      "cell_type": "markdown",
      "source": [
        "Task 14"
      ],
      "metadata": {
        "id": "O6owJBa4VOTN"
      }
    },
    {
      "cell_type": "code",
      "source": [
        "#calculate factorial with the help of iterative methos\n",
        "\n",
        "def factorial(num):\n",
        "  if num < 0:\n",
        "    return 0\n",
        "  elif num == 0 or num==1:\n",
        "    return 1\n",
        "  else:\n",
        "    fact = 1\n",
        "    while(num > 1):\n",
        "      fact *= num\n",
        "      num -=1\n",
        "    return fact\n",
        "\n",
        "\n",
        "num = 5\n",
        "print(f\"factorial of {num}: \" ,factorial(5))"
      ],
      "metadata": {
        "colab": {
          "base_uri": "https://localhost:8080/"
        },
        "id": "h7xNTMkaVcpC",
        "outputId": "1b7aa0fc-c0ed-4bb2-a0e6-0d97fc18ae1e"
      },
      "execution_count": 105,
      "outputs": [
        {
          "output_type": "stream",
          "name": "stdout",
          "text": [
            "factorial of 5:  120\n"
          ]
        }
      ]
    },
    {
      "cell_type": "markdown",
      "source": [
        "Task 15"
      ],
      "metadata": {
        "id": "gTodI0-NVOUv"
      }
    },
    {
      "cell_type": "code",
      "source": [
        "def CountVowels(name):\n",
        "  count = 0\n",
        "  for i in name:\n",
        "    if i == 'a' or i == \"e\" or i =='i' or i =='o' or i=='u':\n",
        "      count +=1\n",
        "  print(\"Number if vowels in the give string is: \", count)\n",
        "CountVowels(\"aeiou\")"
      ],
      "metadata": {
        "colab": {
          "base_uri": "https://localhost:8080/"
        },
        "id": "yTET-IPnVdbd",
        "outputId": "c24d38f7-9211-4dc9-eb3c-d6038636021a"
      },
      "execution_count": 110,
      "outputs": [
        {
          "output_type": "stream",
          "name": "stdout",
          "text": [
            "Number if vowels in the give string is:  5\n"
          ]
        }
      ]
    },
    {
      "cell_type": "markdown",
      "source": [
        "Task 16"
      ],
      "metadata": {
        "id": "Dcqwo0E-VOXQ"
      }
    },
    {
      "cell_type": "code",
      "source": [
        "\n",
        "\n",
        "def LCSubStr(X, Y, m, n):\n",
        "\tLCSuff = [[0 for k in range(n+1)] for l in range(m+1)]\n",
        "\n",
        "\t# To store the length of\n",
        "\t# longest common substring\n",
        "\tresult = 0\n",
        "\n",
        "\t# Following steps to build\n",
        "\t# LCSuff[m+1][n+1] in bottom up fashion\n",
        "\tfor i in range(m + 1):\n",
        "\t\tfor j in range(n + 1):\n",
        "\t\t\tif (i == 0 or j == 0):\n",
        "\t\t\t\tLCSuff[i][j] = 0\n",
        "\t\t\telif (X[i-1] == Y[j-1]):\n",
        "\t\t\t\tLCSuff[i][j] = LCSuff[i-1][j-1] + 1\n",
        "\t\t\t\tresult = max(result, LCSuff[i][j])\n",
        "\t\t\telse:\n",
        "\t\t\t\tLCSuff[i][j] = 0\n",
        "\treturn result\n",
        "\n",
        "\n",
        "# Driver Code\n",
        "X = 'OldSite:GeeksforGeeks.org'\n",
        "Y = 'NewSite:GeeksQuiz.com'\n",
        "\n",
        "m = len(X)\n",
        "n = len(Y)\n",
        "\n",
        "print('Length of Longest Common Substring is',\n",
        "\tLCSubStr(X, Y, m, n))\n",
        "\n",
        "# This code is contributed by Soumen Ghosh\n"
      ],
      "metadata": {
        "colab": {
          "base_uri": "https://localhost:8080/"
        },
        "id": "McBu9HDpqjSN",
        "outputId": "7aabfd0e-e415-40e0-bd42-b88fb4696a4a"
      },
      "execution_count": 111,
      "outputs": [
        {
          "output_type": "stream",
          "name": "stdout",
          "text": [
            "Length of Longest Common Substring is 10\n"
          ]
        }
      ]
    },
    {
      "cell_type": "markdown",
      "source": [
        "Task 17\n"
      ],
      "metadata": {
        "id": "TXWyTQHUVOaG"
      }
    },
    {
      "cell_type": "code",
      "source": [
        "search_word = 'apple'\n",
        "replace_word = 'I love mango'\n",
        "with open('simple.txt', 'r') as file:\n",
        "  data = file.read()\n",
        "  print(data)\n",
        "  data = data.replace(search_word, replace_word)\n",
        "with open('simple.txt', 'w') as file:\n",
        "  data = file.write(data)\n",
        "\n"
      ],
      "metadata": {
        "colab": {
          "base_uri": "https://localhost:8080/"
        },
        "id": "OQxl8XPQqkFv",
        "outputId": "fadc9a07-207f-4726-b7a5-a4485b9d0794"
      },
      "execution_count": 113,
      "outputs": [
        {
          "output_type": "stream",
          "name": "stdout",
          "text": [
            "Mango banana apple pear\n",
            "Banana grapes strawberry\n",
            "Apple pear mango banana\n",
            "Kiwi apple mango strawberry\n"
          ]
        }
      ]
    },
    {
      "cell_type": "markdown",
      "source": [
        "Task 18"
      ],
      "metadata": {
        "id": "c8X8wJrXVObg"
      }
    },
    {
      "cell_type": "code",
      "source": [
        "# Python program to find LCM of two numbers\n",
        "\n",
        "# Function to return LCM of two numbers\n",
        "def LCM(a, b):\n",
        "\tgreater = max(a, b)\n",
        "\tsmallest = min(a, b)\n",
        "\tfor i in range(greater, a*b+1, greater):       # range(start, stop, step) -->start(optional-default=0), end(required), step(optional-default=1)\n",
        "\t\tif i % smallest == 0:\n",
        "\t\t\treturn i\n",
        "\n",
        "a = 4\n",
        "b = 3\n",
        "print(\"LCM of\", a, \"and\", b, \"is\", LCM(a, b))\n"
      ],
      "metadata": {
        "colab": {
          "base_uri": "https://localhost:8080/"
        },
        "id": "YrH8ebW-qkqq",
        "outputId": "f4ab0f13-cdbb-4cc1-f85e-0a20821ff450"
      },
      "execution_count": 118,
      "outputs": [
        {
          "output_type": "stream",
          "name": "stdout",
          "text": [
            "LCM of 4 and 3 is 12\n"
          ]
        }
      ]
    },
    {
      "cell_type": "markdown",
      "source": [
        "Task 19"
      ],
      "metadata": {
        "id": "ytjTJFKoVOeT"
      }
    },
    {
      "cell_type": "code",
      "source": [
        "def password_validation(password):\n",
        "    if not re.findall(r'.*(?=.{8,})(?=.*\\d)(?=.*[a-zA-Z])(?=.*[@#$%^&+=]).*$', password):\n",
        "      print(\"Password must contain at least 8 character ,at least 1 alphabet, number and special charater\")\n",
        "    else:\n",
        "        return password\n",
        "password_validation('Israr')"
      ],
      "metadata": {
        "colab": {
          "base_uri": "https://localhost:8080/"
        },
        "id": "TbthMyIIqlU3",
        "outputId": "2a166cb3-c3f7-47a6-c516-c8d3ab1ed424"
      },
      "execution_count": 119,
      "outputs": [
        {
          "output_type": "stream",
          "name": "stdout",
          "text": [
            "Password must contain at least 8 character ,at least 1 alphabet, number and special charater\n"
          ]
        }
      ]
    },
    {
      "cell_type": "markdown",
      "source": [
        "Task 20"
      ],
      "metadata": {
        "id": "xQHWhnRpVOh1"
      }
    },
    {
      "cell_type": "code",
      "source": [
        "def is_pangram(input_string):  # is a function to check that a string contain all alphabetic character\n",
        "    Unq_letters = set()\n",
        "\n",
        "    for char in input_string:\n",
        "      char = char.lower()\n",
        "\n",
        "      # check the character is alphabet or not\n",
        "      if 'a' <= char <= 'z':\n",
        "            Unq_letters.add(char)\n",
        "      # check if there is unique letter in the set or not\n",
        "    return len(Unq_letters) == 26\n",
        "\n",
        "\n",
        "input_string = \"abcdefghijklmnopqrstuvwxyz\"\n",
        "res = is_pangram(input_string)\n",
        "\n",
        "if res:\n",
        "  print(\"The give string is pangram\")\n",
        "else:\n",
        "  print('Not pangram')\n"
      ],
      "metadata": {
        "colab": {
          "base_uri": "https://localhost:8080/"
        },
        "id": "hzPCB5RsqmIV",
        "outputId": "ad1f2645-1000-4bd3-e775-7e7e8ebe0e1c"
      },
      "execution_count": 128,
      "outputs": [
        {
          "output_type": "stream",
          "name": "stdout",
          "text": [
            "The give string is pangram\n"
          ]
        }
      ]
    }
  ]
}